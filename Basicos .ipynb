{
 "cells": [
  {
   "cell_type": "markdown",
   "metadata": {},
   "source": [
    "# ¿Qué son los notebooks de <a href=\"http://jupyter.org/\">Jupyter</a> ?\n",
    "\n",
    "Es una aplicación web  open source que permite crear documentos con código, texto enriquecido y visualizaciones. Ideal para crear y compartir documentos que contienen ecuaciones, texto junto a código (Python, R, Ruby, Sage, Haskell, Go, Spark ..)  Permiten que  el trabajo sea reproducible y más interactivo. \n",
    "\n",
    "Ventajas \n",
    "\n",
    "- Elige el lenguaje.\n",
    "- Fácil de compartir.\n",
    "- Widgets interactivos.\n",
    "\n",
    "Puedes poner ecuaciones en una celda de tipo Markdown como esta \n",
    "\n",
    "$$\\int_0^\\infty e^{-x^2} dx=\\frac{\\sqrt{\\pi}}{2}$$\n",
    "\n",
    "Insertar imágenes"
   ]
  },
  {
   "cell_type": "code",
   "execution_count": 8,
   "metadata": {
    "collapsed": false
   },
   "outputs": [
    {
     "data": {
      "image/png": "[encoded data removed]",
      "text/plain": [
       "<IPython.core.display.Image object>"
      ]
     },
     "execution_count": 8,
     "metadata": {},
     "output_type": "execute_result"
    }
   ],
   "source": [
    "from IPython.display import Image\n",
    "Image(\"Imagenes/jupyter_logo.png\")"
   ]
  },
  {
   "cell_type": "markdown",
   "metadata": {},
   "source": [
    "Videos, audio, gifs..."
   ]
  },
  {
   "cell_type": "code",
   "execution_count": 1,
   "metadata": {
    "collapsed": false
   },
   "outputs": [
    {
     "data": {
      "text/html": [
       "<img src=\"Imagenes/matrixmult.gif\">"
      ],
      "text/plain": [
       "<IPython.core.display.HTML object>"
      ]
     },
     "execution_count": 1,
     "metadata": {},
     "output_type": "execute_result"
    }
   ],
   "source": [
    "from IPython.display import HTML\n",
    "HTML('<img src=\"Imagenes/matrixmult.gif\">')"
   ]
  },
  {
   "cell_type": "markdown",
   "metadata": {},
   "source": [
    "#  Jugando con strings "
   ]
  },
  {
   "cell_type": "code",
   "execution_count": 10,
   "metadata": {
    "collapsed": false
   },
   "outputs": [
    {
     "name": "stdout",
     "output_type": "stream",
     "text": [
      "Hello world! :D\n"
     ]
    }
   ],
   "source": [
    "# Esta es una celda de codigo y esta linea un comentario\n",
    "print (\"Hello world! :D\")"
   ]
  },
  {
   "cell_type": "code",
   "execution_count": 13,
   "metadata": {
    "collapsed": false
   },
   "outputs": [
    {
     "name": "stdout",
     "output_type": "stream",
     "text": [
      "Hello wanda\n"
     ]
    }
   ],
   "source": [
    "my_name = \"wanda\" # cambia por tu nombre y ejecuta la celda usando shift+enter\n",
    "my_string = \"Hello \"+my_name\n",
    "print (my_string)"
   ]
  },
  {
   "cell_type": "markdown",
   "metadata": {},
   "source": [
    "Podemos concatenar las palabras como en el ejemplo anterior usando el operador **+**\n",
    "\n",
    "Si la cadena es:"
   ]
  },
  {
   "cell_type": "raw",
   "metadata": {},
   "source": [
    "Hello wanda\n",
    "012345678910"
   ]
  },
  {
   "cell_type": "code",
   "execution_count": 19,
   "metadata": {
    "collapsed": false
   },
   "outputs": [
    {
     "name": "stdout",
     "output_type": "stream",
     "text": [
      "H\n",
      " \n",
      "a\n"
     ]
    }
   ],
   "source": [
    "print(my_string[0])\n",
    "print(my_string[5])\n",
    "print(my_string[-1]) #-1 nos da el ultimo caracter"
   ]
  },
  {
   "cell_type": "code",
   "execution_count": 18,
   "metadata": {
    "collapsed": false
   },
   "outputs": [
    {
     "name": "stdout",
     "output_type": "stream",
     "text": [
      "H\n",
      "e\n",
      "l\n",
      "l\n",
      "o\n",
      " \n",
      "w\n",
      "a\n",
      "n\n",
      "d\n",
      "a\n"
     ]
    }
   ],
   "source": [
    "for letter in my_string:\n",
    "    print (letter)"
   ]
  },
  {
   "cell_type": "code",
   "execution_count": 28,
   "metadata": {
    "collapsed": false
   },
   "outputs": [
    {
     "name": "stdout",
     "output_type": "stream",
     "text": [
      "Digite un numero: 12\n"
     ]
    },
    {
     "ename": "TypeError",
     "evalue": "not all arguments converted during string formatting",
     "output_type": "error",
     "traceback": [
      "\u001b[0;31m---------------------------------------------------------------------------\u001b[0m",
      "\u001b[0;31mTypeError\u001b[0m                                 Traceback (most recent call last)",
      "\u001b[0;32m<ipython-input-28-0560a74afc9a>\u001b[0m in \u001b[0;36m<module>\u001b[0;34m()\u001b[0m\n\u001b[1;32m      4\u001b[0m \u001b[0;31m#a = int(a)\u001b[0m\u001b[0;34m\u001b[0m\u001b[0;34m\u001b[0m\u001b[0m\n\u001b[1;32m      5\u001b[0m \u001b[0;34m\u001b[0m\u001b[0m\n\u001b[0;32m----> 6\u001b[0;31m \u001b[0;32mif\u001b[0m \u001b[0ma\u001b[0m\u001b[0;34m%\u001b[0m\u001b[0;36m2\u001b[0m \u001b[0;34m==\u001b[0m \u001b[0;36m0\u001b[0m\u001b[0;34m:\u001b[0m\u001b[0;34m\u001b[0m\u001b[0m\n\u001b[0m\u001b[1;32m      7\u001b[0m     \u001b[0mprint\u001b[0m \u001b[0;34m(\u001b[0m\u001b[0;34m\"Numero par\"\u001b[0m\u001b[0;34m)\u001b[0m\u001b[0;34m\u001b[0m\u001b[0m\n\u001b[1;32m      8\u001b[0m \u001b[0;32melse\u001b[0m\u001b[0;34m:\u001b[0m\u001b[0;34m\u001b[0m\u001b[0m\n",
      "\u001b[0;31mTypeError\u001b[0m: not all arguments converted during string formatting"
     ]
    }
   ],
   "source": [
    "# Input nos permite leer la entrada, pero cuidado !\n",
    "a = input(\"Digite un numero: \")\n",
    "#Corrige el  error convirtiendo a numero el caracter\n",
    "#print (type(a))\n",
    "#a = int(a)\n",
    "\n",
    "if a%2 == 0:\n",
    "    print (\"Numero par\")\n",
    "else:\n",
    "    print (\"Numero impar\")"
   ]
  },
  {
   "cell_type": "markdown",
   "metadata": {},
   "source": [
    "Ahora creemos una funcion que haga lo anterior"
   ]
  },
  {
   "cell_type": "code",
   "execution_count": 34,
   "metadata": {
    "collapsed": false
   },
   "outputs": [
    {
     "name": "stdout",
     "output_type": "stream",
     "text": [
      "4 es Numero par\n"
     ]
    }
   ],
   "source": [
    "def numero_par(num):\n",
    "    \"\"\"Las 3 comillas nos permiten escribir comentarios largos\n",
    "    o en este caso, documentacion de la funcion numero_par\n",
    "    \n",
    "    Parametros:\n",
    "    num: Numero entero o flotante\n",
    "    \n",
    "    Imprime un mensaje indicando si un numero es par o impar\"\"\"\n",
    "\n",
    "    if num %2 == 0:\n",
    "        print (num, \"es Numero par\")\n",
    "    else:\n",
    "        print (num, \"es Numero impar\")\n",
    "\n",
    "numero_par(4) #reemplazalo por cualquier numero"
   ]
  },
  {
   "cell_type": "markdown",
   "metadata": {},
   "source": [
    "# Ejercicio:\n",
    "\n",
    "1) Crea un notebook.\n",
    "\n",
    "2) Usa celdas markdown para poner encabezados o titulos\n",
    "\n",
    "3) Usa celdas de código para escribir un programa que calcule la media y la varianza de una lista de numeros.\n",
    "\n",
    "la lista es [5,3.5,4,2.5]\n",
    "\n",
    "Tips\n",
    "\n",
    "- el operador que da la longitud de una lista es len(nombrelista)\n",
    "- para exponenciación $a^x$ se escribe a**x\n",
    "- Media $\\frac{1}{n} \\sum_{i=1}^n X_i $\n",
    "- Varianza : ${\\displaystyle S_{X}^{2}={\\frac {\\sum _{i=1}^{n}(X_{i}-{\\bar {X}})^{2}}{n-1}}}$\n",
    "\n",
    "una solución se encuentra en el archivo sol1.py"
   ]
  },
  {
   "cell_type": "code",
   "execution_count": 37,
   "metadata": {
    "collapsed": false
   },
   "outputs": [
    {
     "name": "stdout",
     "output_type": "stream",
     "text": [
      "3.75\n",
      "1.0833333333333333\n"
     ]
    }
   ],
   "source": []
  },
  {
   "cell_type": "code",
   "execution_count": null,
   "metadata": {
    "collapsed": true
   },
   "outputs": [],
   "source": []
  }
 ],
 "metadata": {
  "anaconda-cloud": {},
  "kernelspec": {
   "display_name": "Python [conda env:py34]",
   "language": "python",
   "name": "conda-env-py34-py"
  },
  "language_info": {
   "codemirror_mode": {
    "name": "ipython",
    "version": 3
   },
   "file_extension": ".py",
   "mimetype": "text/x-python",
   "name": "python",
   "nbconvert_exporter": "python",
   "pygments_lexer": "ipython3",
   "version": "3.4.5"
  }
 },
 "nbformat": 4,
 "nbformat_minor": 1
}
